{
 "cells": [
  {
   "cell_type": "markdown",
   "metadata": {},
   "source": [
    "## Instalação do banco de dados vetorial Milvus "
   ]
  },
  {
   "cell_type": "markdown",
   "metadata": {},
   "source": [
    "#### Primeiro passo \n",
    "É necessário fazer o download do [docker_compose.yml](https://github.com/milvus-io/milvus/releases/download/v2.2.11/milvus-standalone-docker-compose.yml) \n"
   ]
  },
  {
   "cell_type": "markdown",
   "metadata": {},
   "source": [
    "Ou cole o comando abaixo diretamente no terminal"
   ]
  },
  {
   "cell_type": "markdown",
   "metadata": {},
   "source": [
    " - wget https://github.com/milvus-io/milvus/releases/download/v2.2.11/milvus-standalone-docker-compose.yml -O docker-compose.yml\n",
    "go to docker-compose.yml"
   ]
  },
  {
   "cell_type": "markdown",
   "metadata": {},
   "source": [
    "* Este arquivo contém a configuração de 3 conteiners necessários para execução do milvus, sendo eles: \n",
    "   - etcd: Responsável por setar os volumes para persistência de dados.\n",
    "   - minio: Responsável por armazenar metadados e outros dados necessários para o funcionamento do milvus\n",
    "   - standalone: É o container principal que executa o milvus"
   ]
  },
  {
   "cell_type": "markdown",
   "metadata": {},
   "source": [
    "Execute o docker compose com o comando `docker compose up`"
   ]
  },
  {
   "cell_type": "markdown",
   "metadata": {},
   "source": [
    "Após ser executado, vc irá notar que seu terminal ficará preso por conta dos containeres estarem em execução"
   ]
  },
  {
   "cell_type": "markdown",
   "metadata": {},
   "source": [
    "Abra uma outra janela do terminal e derrube a execução com o comando `docker compose down`"
   ]
  },
  {
   "cell_type": "markdown",
   "metadata": {},
   "source": [
    "Abaixo da configuração do standalone cole o código abaixo no seu arquivo docker compose"
   ]
  },
  {
   "cell_type": "markdown",
   "metadata": {},
   "source": [
    "Agora iremos modificar o nosso arquivo docker compose para instalar um container do Attu (Um software open-source que nos permite ter acesso a uma interface visual do nosso banco vetorial) "
   ]
  },
  {
   "cell_type": "markdown",
   "metadata": {},
   "source": [
    "Abra o aquivo docker compose e você irá visualizar em 'services' a configuração dos 3 containers: etcd, minio, standalone"
   ]
  },
  {
   "cell_type": "markdown",
   "metadata": {},
   "source": [
    "Abaixo das configurações do standalone insira esta configuração.  \n",
    "Obs: Nos arquivos yaml a identação importa, então atenção. "
   ]
  },
  {
   "cell_type": "markdown",
   "metadata": {},
   "source": [
    "```\n",
    "attu:\n",
    "    container_name: attu\n",
    "    image: zilliz/attu:v2.2.6\n",
    "    environment:\n",
    "      MILVUS_URL: milvus-standalone:19530\n",
    "    ports:\n",
    "      - \"8000:3000\"\n",
    "    depends_on:\n",
    "      - \"standalone\"\n",
    "```      "
   ]
  },
  {
   "cell_type": "markdown",
   "metadata": {},
   "source": [
    "Execute o comando docker compose up novamente "
   ]
  },
  {
   "cell_type": "markdown",
   "metadata": {},
   "source": [
    "### Attu"
   ]
  },
  {
   "cell_type": "markdown",
   "metadata": {},
   "source": [
    "Agora vamos executar o [Attu](http://localhost:8000) que será a interface gráfica do nosso banco vetorial."
   ]
  },
  {
   "cell_type": "markdown",
   "metadata": {},
   "source": [
    "Ele está rodando na porta 8000 do nosso computador  \n",
    "login: root  \n",
    "senha: milvus"
   ]
  },
  {
   "cell_type": "markdown",
   "metadata": {},
   "source": [
    "### Pymilvus"
   ]
  },
  {
   "cell_type": "markdown",
   "metadata": {},
   "source": [
    "Agora que já temos o nosso container rodando, vamos instalar o pymilvus para persistir alguns dados para teste"
   ]
  },
  {
   "cell_type": "code",
   "execution_count": null,
   "metadata": {},
   "outputs": [],
   "source": [
    "!pip install pymilvus"
   ]
  },
  {
   "cell_type": "code",
   "execution_count": 4,
   "metadata": {},
   "outputs": [],
   "source": [
    "import os\n",
    "from pymilvus import(\n",
    "    connections,\n",
    "    utility,\n",
    "    FieldSchema,\n",
    "    CollectionSchema,\n",
    "    DataType,\n",
    "    Collection\n",
    ")"
   ]
  },
  {
   "cell_type": "markdown",
   "metadata": {},
   "source": [
    "Conecção com o banco"
   ]
  },
  {
   "cell_type": "code",
   "execution_count": 5,
   "metadata": {},
   "outputs": [],
   "source": [
    "connections.connect('default', host = 'localhost', port = '19530')"
   ]
  },
  {
   "cell_type": "markdown",
   "metadata": {},
   "source": [
    "Aqui abaixo estamos configurando como será o esquema da nossa coleção de dados.\n",
    " - fields: Setamos os campos da nossa coleção onde teremos 3 colunas sendo elas pk, words e embbedings.\n",
    " - schema: Passamos como argumento os campos para o nosso schema e podemos especificar uma descrição para essa coleção\n",
    " - my_collection: Instanciamos a nossa coleção passando como argumento o nosso schema e setamos o nome dessa coleção"
   ]
  },
  {
   "cell_type": "code",
   "execution_count": 6,
   "metadata": {},
   "outputs": [],
   "source": [
    "fields = [\n",
    "    FieldSchema(name='pk', dtype=DataType.INT64, is_primary=True, auto_id=False),\n",
    "    FieldSchema(name='words', dtype=DataType.VARCHAR, max_length = 50),\n",
    "    FieldSchema(name='embbendings', dtype=DataType.FLOAT_VECTOR, dim = 300),\n",
    "]\n",
    "schema = CollectionSchema(fields, 'Vector Colection')\n",
    "my_collection = Collection('my_collection', schema)"
   ]
  },
  {
   "cell_type": "markdown",
   "metadata": {},
   "source": [
    "Aqui iremos setar o index type da coluna embbedings.  \n",
    "O index type é importante para garantir um bom desempenho e precisão nas consultas de similaridade.  \n",
    "Parametros:\n",
    "- 'index_type:IVF_FLAT' - Determina como os vetores serão organizados e indexados. O 'IVF_FLAT' é um tipo de indice que combina a indexação com um estrutura de dados em arvore.  \n",
    "- metric_type:L2 - Especifica a medida de similaridade usada para comparação entre os vetores. No caso, distancia Euclidiana.  \n",
    "- nlist:128 - Controla o numero de clusters ou partições usadas pelo indice. O valor padrão é 16384.  \n",
    "\n",
    "Obs: Quanto maior o valor de nlist, mais clusters serão criados e menor será o número de vetores em cada cluster. Isso pode afetar a precisão das consultas}"
   ]
  },
  {
   "cell_type": "code",
   "execution_count": 7,
   "metadata": {},
   "outputs": [
    {
     "data": {
      "text/plain": [
       "Status(code=0, message=)"
      ]
     },
     "execution_count": 7,
     "metadata": {},
     "output_type": "execute_result"
    }
   ],
   "source": [
    "index = {\n",
    "    'index_type':'IVF_FLAT',\n",
    "    'metric_type':'L2',\n",
    "    'params': {'nlist':128}\n",
    "}\n",
    "\n",
    "my_collection.create_index('embbendings', index)"
   ]
  },
  {
   "cell_type": "markdown",
   "metadata": {},
   "source": [
    "Agora neste passo iremos usar o modelo pré treinado para transformar nossos dados em vetores para armazená-los no milvus.  \n",
    "Caso tenha interesse em baixar o modelo clique [Aqui](http://www.nilc.icmc.usp.br/nilc/index.php/repositorio-de-word-embeddings-do-nilc)  \n",
    "Obs: Este processo pode ser um pouco demorado dependendo de quantas dimensões o modelo pré treinado possui"
   ]
  },
  {
   "cell_type": "code",
   "execution_count": 8,
   "metadata": {},
   "outputs": [],
   "source": [
    "from gensim.models import KeyedVectors\n",
    "model = KeyedVectors.load_word2vec_format(os.path.join(os.getcwd(), 'cbow_s300.txt'))"
   ]
  },
  {
   "cell_type": "markdown",
   "metadata": {},
   "source": [
    "Aqui colocamos algumas palavras aleatórias dentro de uma lista e iteramos sobre elas para primeiro verificar se ela existe no nosso modelo e caso a condição seja satisfeita, transformamos-a em vetores numericos e inserimos cada vetor dentro de uma nova lista para ser usadas futuramente."
   ]
  },
  {
   "cell_type": "code",
   "execution_count": 9,
   "metadata": {},
   "outputs": [],
   "source": [
    "words = ['cachorro', 'gato','rei', 'rainha', 'leão', 'selva', 'tigre', 'estudo']\n",
    "embbending_words = []\n",
    "for word in words:\n",
    "    if word in model:\n",
    "        embbending_words.append(model[word])"
   ]
  },
  {
   "cell_type": "markdown",
   "metadata": {},
   "source": [
    "Usamos um recurso do python para fazer a atribuição dos vetores obitidos de cada palavra"
   ]
  },
  {
   "cell_type": "code",
   "execution_count": 10,
   "metadata": {},
   "outputs": [],
   "source": [
    "cachorro, gato, rei, rainha, leão, selva, tigre, estudo = embbending_words"
   ]
  },
  {
   "cell_type": "code",
   "execution_count": 11,
   "metadata": {},
   "outputs": [],
   "source": [
    "data = [\n",
    "    [1, 2, 3, 4, 5, 6, 7, 8],\n",
    "    ['cachorro', 'gato','rei', 'rainha', 'leão', 'selva', 'tigre', 'estudo'],\n",
    "    [cachorro, gato, rei,  rainha, leão, selva, tigre, estudo]\n",
    "]"
   ]
  },
  {
   "cell_type": "markdown",
   "metadata": {},
   "source": [
    "Como usamos um modelo de 300 dimensões verificamos o shape de uma variável para testar"
   ]
  },
  {
   "cell_type": "code",
   "execution_count": 34,
   "metadata": {},
   "outputs": [
    {
     "data": {
      "text/plain": [
       "(300,)"
      ]
     },
     "execution_count": 34,
     "metadata": {},
     "output_type": "execute_result"
    }
   ],
   "source": [
    "cachorro.shape"
   ]
  },
  {
   "cell_type": "markdown",
   "metadata": {},
   "source": [
    "E por fim inserimos a nossa coleção 8 registros "
   ]
  },
  {
   "cell_type": "code",
   "execution_count": 12,
   "metadata": {},
   "outputs": [
    {
     "data": {
      "text/plain": [
       "(insert count: 8, delete count: 0, upsert count: 0, timestamp: 448719281261379586, success count: 8, err count: 0)"
      ]
     },
     "execution_count": 12,
     "metadata": {},
     "output_type": "execute_result"
    }
   ],
   "source": [
    "my_collection.insert(data)"
   ]
  },
  {
   "cell_type": "markdown",
   "metadata": {},
   "source": [
    "Após a inserção usamos o método flush para garantir que os dados sejam persistidos no armazenamento permanente. É útil para que os dados não sejam perdidos, caso haja falha do sistema ou reinicialização do milvus."
   ]
  },
  {
   "cell_type": "code",
   "execution_count": 13,
   "metadata": {},
   "outputs": [],
   "source": [
    "my_collection.flush()"
   ]
  },
  {
   "cell_type": "markdown",
   "metadata": {},
   "source": [
    "O método load permite que os dados sejam carregados na memória para estar disponível para consulta"
   ]
  },
  {
   "cell_type": "code",
   "execution_count": 14,
   "metadata": {},
   "outputs": [],
   "source": [
    "my_collection.load()"
   ]
  }
 ],
 "metadata": {
  "kernelspec": {
   "display_name": "Python 3",
   "language": "python",
   "name": "python3"
  },
  "language_info": {
   "codemirror_mode": {
    "name": "ipython",
    "version": 3
   },
   "file_extension": ".py",
   "mimetype": "text/x-python",
   "name": "python",
   "nbconvert_exporter": "python",
   "pygments_lexer": "ipython3",
   "version": "3.12.1"
  }
 },
 "nbformat": 4,
 "nbformat_minor": 2
}
